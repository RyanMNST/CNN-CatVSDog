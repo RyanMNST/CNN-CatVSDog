{
 "cells": [
  {
   "cell_type": "markdown",
   "id": "92826867",
   "metadata": {},
   "source": [
    "## VI. Evaluation of the model"
   ]
  },
  {
   "cell_type": "markdown",
   "id": "82834e83",
   "metadata": {},
   "source": [
    "### A. Import libraries to use "
   ]
  },
  {
   "cell_type": "code",
   "execution_count": 1,
   "id": "49e30f09",
   "metadata": {},
   "outputs": [],
   "source": [
    "import numpy as np\n",
    "import pandas as pd \n",
    "from tensorflow import keras\n",
    "from keras.preprocessing.image import ImageDataGenerator, load_img\n",
    "from keras.utils import to_categorical\n",
    "from sklearn.model_selection import train_test_split\n",
    "import matplotlib.pyplot as plt\n",
    "import random\n",
    "import os"
   ]
  },
  {
   "cell_type": "markdown",
   "id": "16f490d2",
   "metadata": {},
   "source": [
    "### B. Load fitted model for prediction"
   ]
  },
  {
   "cell_type": "code",
   "execution_count": 2,
   "id": "ad999750",
   "metadata": {},
   "outputs": [],
   "source": [
    "from tensorflow import keras\n",
    "model = keras.models.load_model('weights')"
   ]
  },
  {
   "cell_type": "markdown",
   "id": "2d45742f",
   "metadata": {},
   "source": [
    "### C. Set parameters"
   ]
  },
  {
   "cell_type": "code",
   "execution_count": 3,
   "id": "dbc86126",
   "metadata": {},
   "outputs": [],
   "source": [
    "FAST_RUN = False\n",
    "IMAGE_WIDTH=64 #image pixel width\n",
    "IMAGE_HEIGHT=64 #image pixel height\n",
    "IMAGE_SIZE=(IMAGE_WIDTH, IMAGE_HEIGHT)\n",
    "IMAGE_CHANNELS=3 #image RGB channel\n",
    "batch_size=15"
   ]
  },
  {
   "cell_type": "markdown",
   "id": "6918c03b",
   "metadata": {},
   "source": [
    "### D. Prepare dataframe format from the training data"
   ]
  },
  {
   "cell_type": "code",
   "execution_count": 4,
   "id": "38eb35f9",
   "metadata": {},
   "outputs": [],
   "source": [
    "filenames = os.listdir(\"dogs-vs-cats/train\")\n",
    "categories = []\n",
    "for filename in filenames:\n",
    "    category = filename.split('.')[0]\n",
    "    if category == 'dog':\n",
    "        categories.append(1)\n",
    "    else:\n",
    "        categories.append(0)\n",
    "\n",
    "df = pd.DataFrame({\n",
    "    'filename': filenames,\n",
    "    'category': categories\n",
    "})"
   ]
  },
  {
   "cell_type": "markdown",
   "id": "15afa16e",
   "metadata": {},
   "source": [
    "#### Set class categories "
   ]
  },
  {
   "cell_type": "code",
   "execution_count": 5,
   "id": "82a8e705",
   "metadata": {},
   "outputs": [],
   "source": [
    "df[\"category\"] = df[\"category\"].replace({0: 'cat', 1: 'dog'})\n",
    "train_df, validate_df = train_test_split(df, test_size=0.20, random_state=42)\n",
    "train_df = train_df.reset_index(drop=True)\n",
    "validate_df = validate_df.reset_index(drop=True)"
   ]
  },
  {
   "cell_type": "markdown",
   "id": "5648ab93",
   "metadata": {},
   "source": [
    "#### Prepare image generator"
   ]
  },
  {
   "cell_type": "code",
   "execution_count": 6,
   "id": "2b7aa351",
   "metadata": {},
   "outputs": [
    {
     "name": "stdout",
     "output_type": "stream",
     "text": [
      "Found 20000 validated image filenames belonging to 2 classes.\n"
     ]
    }
   ],
   "source": [
    "train_datagen = ImageDataGenerator(\n",
    "    rotation_range=15,\n",
    "    rescale=1./255,\n",
    "    shear_range=0.1,\n",
    "    zoom_range=0.2,\n",
    "    horizontal_flip=True,\n",
    "    width_shift_range=0.1,\n",
    "    height_shift_range=0.1\n",
    ")\n",
    "\n",
    "train_generator = train_datagen.flow_from_dataframe(\n",
    "    train_df, \n",
    "    \"dogs-vs-cats/train\", \n",
    "    x_col='filename',\n",
    "    y_col='category',\n",
    "    target_size=IMAGE_SIZE,\n",
    "    class_mode='categorical',\n",
    "    batch_size=batch_size\n",
    ")"
   ]
  },
  {
   "cell_type": "markdown",
   "id": "8008ccb1",
   "metadata": {},
   "source": [
    "### E. Prepare testing dataset"
   ]
  },
  {
   "cell_type": "code",
   "execution_count": 7,
   "id": "8da544c5",
   "metadata": {},
   "outputs": [],
   "source": [
    "test_filenames = os.listdir(\"dogs-vs-cats/test2\")\n",
    "test_df = pd.DataFrame({\n",
    "    'filename': test_filenames\n",
    "})\n",
    "nb_samples = test_df.shape[0]"
   ]
  },
  {
   "cell_type": "code",
   "execution_count": 8,
   "id": "75925013",
   "metadata": {},
   "outputs": [
    {
     "name": "stdout",
     "output_type": "stream",
     "text": [
      "Found 8000 validated image filenames.\n"
     ]
    }
   ],
   "source": [
    "test_gen = ImageDataGenerator(rescale=1./255)\n",
    "test_generator = test_gen.flow_from_dataframe(\n",
    "    test_df, \n",
    "    \"dogs-vs-cats/test2\", \n",
    "    x_col='filename',\n",
    "    y_col=None,\n",
    "    class_mode=None,\n",
    "    target_size=IMAGE_SIZE,\n",
    "    batch_size=batch_size,\n",
    "    shuffle=False\n",
    ")"
   ]
  },
  {
   "cell_type": "markdown",
   "id": "e9d0035d",
   "metadata": {},
   "source": [
    "### F. Predict the testing dataset"
   ]
  },
  {
   "cell_type": "code",
   "execution_count": 9,
   "id": "0022fb53",
   "metadata": {},
   "outputs": [],
   "source": [
    "predict = model.predict(test_generator, steps=np.ceil(nb_samples/batch_size))"
   ]
  },
  {
   "cell_type": "code",
   "execution_count": 10,
   "id": "ed88c912",
   "metadata": {},
   "outputs": [],
   "source": [
    "test_df['category'] = np.argmax(predict, axis=-1)"
   ]
  },
  {
   "cell_type": "code",
   "execution_count": 11,
   "id": "f3b95a02",
   "metadata": {},
   "outputs": [],
   "source": [
    "label_map = dict((v,k) for k,v in train_generator.class_indices.items())\n",
    "test_df['category'] = test_df['category'].replace(label_map)"
   ]
  },
  {
   "cell_type": "code",
   "execution_count": 12,
   "id": "52fe24d8",
   "metadata": {},
   "outputs": [],
   "source": [
    "test_df['category'] = test_df['category'].replace({ 'dog': 1, 'cat': 0 })"
   ]
  },
  {
   "cell_type": "markdown",
   "id": "43921f01",
   "metadata": {},
   "source": [
    "#### Save the results of the prediction"
   ]
  },
  {
   "cell_type": "code",
   "execution_count": 13,
   "id": "89d5bd04",
   "metadata": {},
   "outputs": [],
   "source": [
    "results_df = test_df.copy()\n",
    "results_df['id'] = results_df['filename'].str.split('.').str[0]\n",
    "results_df['label'] = results_df['category']\n",
    "results_df.drop(['filename', 'category'], axis=1, inplace=True)\n",
    "results_df.to_csv('results.csv', index=False)"
   ]
  },
  {
   "cell_type": "markdown",
   "id": "eb6d37c6",
   "metadata": {},
   "source": [
    "#### Results from the prediction"
   ]
  },
  {
   "cell_type": "code",
   "execution_count": 14,
   "id": "596a9c13",
   "metadata": {},
   "outputs": [
    {
     "data": {
      "text/html": [
       "<div>\n",
       "<style scoped>\n",
       "    .dataframe tbody tr th:only-of-type {\n",
       "        vertical-align: middle;\n",
       "    }\n",
       "\n",
       "    .dataframe tbody tr th {\n",
       "        vertical-align: top;\n",
       "    }\n",
       "\n",
       "    .dataframe thead th {\n",
       "        text-align: right;\n",
       "    }\n",
       "</style>\n",
       "<table border=\"1\" class=\"dataframe\">\n",
       "  <thead>\n",
       "    <tr style=\"text-align: right;\">\n",
       "      <th></th>\n",
       "      <th>id</th>\n",
       "      <th>label</th>\n",
       "      <th>true</th>\n",
       "    </tr>\n",
       "  </thead>\n",
       "  <tbody>\n",
       "    <tr>\n",
       "      <th>0</th>\n",
       "      <td>cat</td>\n",
       "      <td>0</td>\n",
       "      <td>0.0</td>\n",
       "    </tr>\n",
       "    <tr>\n",
       "      <th>1</th>\n",
       "      <td>cat</td>\n",
       "      <td>0</td>\n",
       "      <td>0.0</td>\n",
       "    </tr>\n",
       "    <tr>\n",
       "      <th>2</th>\n",
       "      <td>cat</td>\n",
       "      <td>0</td>\n",
       "      <td>0.0</td>\n",
       "    </tr>\n",
       "    <tr>\n",
       "      <th>3</th>\n",
       "      <td>cat</td>\n",
       "      <td>0</td>\n",
       "      <td>0.0</td>\n",
       "    </tr>\n",
       "    <tr>\n",
       "      <th>4</th>\n",
       "      <td>cat</td>\n",
       "      <td>0</td>\n",
       "      <td>0.0</td>\n",
       "    </tr>\n",
       "    <tr>\n",
       "      <th>...</th>\n",
       "      <td>...</td>\n",
       "      <td>...</td>\n",
       "      <td>...</td>\n",
       "    </tr>\n",
       "    <tr>\n",
       "      <th>7995</th>\n",
       "      <td>dog</td>\n",
       "      <td>1</td>\n",
       "      <td>1.0</td>\n",
       "    </tr>\n",
       "    <tr>\n",
       "      <th>7996</th>\n",
       "      <td>dog</td>\n",
       "      <td>1</td>\n",
       "      <td>1.0</td>\n",
       "    </tr>\n",
       "    <tr>\n",
       "      <th>7997</th>\n",
       "      <td>dog</td>\n",
       "      <td>1</td>\n",
       "      <td>1.0</td>\n",
       "    </tr>\n",
       "    <tr>\n",
       "      <th>7998</th>\n",
       "      <td>dog</td>\n",
       "      <td>0</td>\n",
       "      <td>1.0</td>\n",
       "    </tr>\n",
       "    <tr>\n",
       "      <th>7999</th>\n",
       "      <td>dog</td>\n",
       "      <td>1</td>\n",
       "      <td>1.0</td>\n",
       "    </tr>\n",
       "  </tbody>\n",
       "</table>\n",
       "<p>8000 rows × 3 columns</p>\n",
       "</div>"
      ],
      "text/plain": [
       "       id  label  true\n",
       "0     cat      0   0.0\n",
       "1     cat      0   0.0\n",
       "2     cat      0   0.0\n",
       "3     cat      0   0.0\n",
       "4     cat      0   0.0\n",
       "...   ...    ...   ...\n",
       "7995  dog      1   1.0\n",
       "7996  dog      1   1.0\n",
       "7997  dog      1   1.0\n",
       "7998  dog      0   1.0\n",
       "7999  dog      1   1.0\n",
       "\n",
       "[8000 rows x 3 columns]"
      ]
     },
     "execution_count": 14,
     "metadata": {},
     "output_type": "execute_result"
    }
   ],
   "source": [
    "# Load dataset\n",
    "predictions_df = pd.read_csv('results.csv')\n",
    "\n",
    "# Set true labels\n",
    "predictions_df.loc[predictions_df['id'] == \"cat\", 'true'] = 0\n",
    "predictions_df.loc[predictions_df['id'] == \"dog\", 'true'] = 1\n",
    "\n",
    "# Show dataframe\n",
    "predictions_df"
   ]
  },
  {
   "cell_type": "code",
   "execution_count": 15,
   "id": "3bb68269",
   "metadata": {},
   "outputs": [
    {
     "name": "stdout",
     "output_type": "stream",
     "text": [
      "Correct cat image predictions: 3541\n",
      "Incorrect cat image predictions: 459\n",
      "Correct dog image predictions: 3528\n",
      "Incorrect dog image predictions: 472\n",
      "Total image predictions: 8000\n"
     ]
    }
   ],
   "source": [
    "# Count of accurate predictions for cats\n",
    "true_cat_preds = predictions_df[(predictions_df[\"id\"] == \"cat\") & (predictions_df[\"label\"] == 0)].count()\n",
    "print(\"Correct cat image predictions:\", true_cat_preds[0])\n",
    "\n",
    "# Count of inaccurate predictions for cats\n",
    "false_cat_preds = predictions_df[(predictions_df[\"id\"] == \"cat\") & (predictions_df[\"label\"] == 1)].count()\n",
    "print(\"Incorrect cat image predictions:\", false_cat_preds[0])\n",
    "\n",
    "# Count of accurate predictions for dogs\n",
    "true_dog_preds = predictions_df[(predictions_df[\"id\"] == \"dog\") & (predictions_df[\"label\"] == 1)].count()\n",
    "print(\"Correct dog image predictions:\", true_dog_preds[0])\n",
    "\n",
    "# Count of inaccurate predictions for dogs\n",
    "false_dog_preds = predictions_df[(predictions_df[\"id\"] == \"dog\") & (predictions_df[\"label\"] == 0)].count()\n",
    "print(\"Incorrect dog image predictions:\", false_dog_preds[0])\n",
    "\n",
    "# Total\n",
    "print(\"Total image predictions:\", true_cat_preds[0]+false_cat_preds[0]+true_dog_preds[0]+false_dog_preds[0])"
   ]
  },
  {
   "cell_type": "code",
   "execution_count": 16,
   "id": "b695f07f",
   "metadata": {},
   "outputs": [
    {
     "data": {
      "image/png": "[encoded data removed]",
      "text/plain": [
       "<Figure size 432x288 with 2 Axes>"
      ]
     },
     "metadata": {
      "needs_background": "light"
     },
     "output_type": "display_data"
    }
   ],
   "source": [
    "from sklearn.metrics import confusion_matrix, ConfusionMatrixDisplay\n",
    "\n",
    "# Get confusion matrix\n",
    "cm = confusion_matrix(predictions_df[\"true\"], predictions_df[\"label\"])\n",
    "\n",
    "# Show confusion matrix\n",
    "disp = ConfusionMatrixDisplay(confusion_matrix=cm, display_labels=[\"cat\", \"dog\"])\n",
    "disp.plot()\n",
    "plt.title('Confusion Matrix of the Dog vs. Cat Classifier')\n",
    "plt.show()"
   ]
  },
  {
   "cell_type": "markdown",
   "id": "9fcc8142",
   "metadata": {},
   "source": [
    "#### Other metrics"
   ]
  },
  {
   "cell_type": "code",
   "execution_count": 17,
   "id": "527a2e3b",
   "metadata": {},
   "outputs": [
    {
     "name": "stdout",
     "output_type": "stream",
     "text": [
      "Accuracy of Classifier: 0.883625\n",
      "\n",
      "              precision    recall  f1-score   support\n",
      "\n",
      "         cat       0.88      0.89      0.88      4000\n",
      "         dog       0.88      0.88      0.88      4000\n",
      "\n",
      "    accuracy                           0.88      8000\n",
      "   macro avg       0.88      0.88      0.88      8000\n",
      "weighted avg       0.88      0.88      0.88      8000\n",
      "\n"
     ]
    }
   ],
   "source": [
    "# Accuracy\n",
    "from sklearn.metrics import accuracy_score\n",
    "accuracy = accuracy_score(predictions_df[\"true\"], predictions_df[\"label\"])\n",
    "print(\"Accuracy of Classifier:\", accuracy)\n",
    "print()\n",
    "\n",
    "# Precision, Recall, and F1-score\n",
    "from sklearn.metrics import classification_report\n",
    "print(classification_report(predictions_df[\"true\"], predictions_df[\"label\"], target_names=[\"cat\", \"dog\"]))"
   ]
  },
  {
   "cell_type": "markdown",
   "id": "3e8eb719",
   "metadata": {},
   "source": [
    "# End of notebook"
   ]
  }
 ],
 "metadata": {
  "kernelspec": {
   "display_name": "Python 3",
   "language": "python",
   "name": "python3"
  },
  "language_info": {
   "codemirror_mode": {
    "name": "ipython",
    "version": 3
   },
   "file_extension": ".py",
   "mimetype": "text/x-python",
   "name": "python",
   "nbconvert_exporter": "python",
   "pygments_lexer": "ipython3",
   "version": "3.8.10"
  }
 },
 "nbformat": 4,
 "nbformat_minor": 5
}
